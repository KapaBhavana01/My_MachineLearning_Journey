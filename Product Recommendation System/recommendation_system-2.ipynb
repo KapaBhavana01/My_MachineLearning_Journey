{
 "cells": [
  {
   "cell_type": "markdown",
   "metadata": {},
   "source": [
    "Cold Start Recommendation System - works best if a business is setting up its website for the first time and does not have user-item purchase/rating history to start with initally"
   ]
  },
  {
   "cell_type": "code",
   "execution_count": 1,
   "metadata": {},
   "outputs": [],
   "source": [
    "import numpy as np\n",
    "import pandas as pd\n",
    "import matplotlib.pyplot as plt\n",
    "from sklearn.feature_extraction.text import TfidfVectorizer, CountVectorizer\n",
    "from sklearn.neighbors import NearestNeighbors\n",
    "from sklearn.cluster import KMeans\n",
    "from sklearn.metrics import adjusted_rand_score"
   ]
  },
  {
   "cell_type": "code",
   "execution_count": 2,
   "metadata": {},
   "outputs": [],
   "source": [
    "data = pd.read_csv('home_depot_data.csv')"
   ]
  },
  {
   "cell_type": "code",
   "execution_count": 8,
   "metadata": {},
   "outputs": [
    {
     "data": {
      "text/plain": [
       "(2551, 14)"
      ]
     },
     "execution_count": 8,
     "metadata": {},
     "output_type": "execute_result"
    }
   ],
   "source": [
    "data.shape"
   ]
  },
  {
   "cell_type": "code",
   "execution_count": 7,
   "metadata": {},
   "outputs": [
    {
     "data": {
      "text/html": [
       "<div>\n",
       "<style scoped>\n",
       "    .dataframe tbody tr th:only-of-type {\n",
       "        vertical-align: middle;\n",
       "    }\n",
       "\n",
       "    .dataframe tbody tr th {\n",
       "        vertical-align: top;\n",
       "    }\n",
       "\n",
       "    .dataframe thead th {\n",
       "        text-align: right;\n",
       "    }\n",
       "</style>\n",
       "<table border=\"1\" class=\"dataframe\">\n",
       "  <thead>\n",
       "    <tr style=\"text-align: right;\">\n",
       "      <th></th>\n",
       "      <th>product_id</th>\n",
       "      <th>description</th>\n",
       "    </tr>\n",
       "  </thead>\n",
       "  <tbody>\n",
       "    <tr>\n",
       "      <th>0</th>\n",
       "      <td>310090686</td>\n",
       "      <td>This heavyweight, water-repellent hooded sweat...</td>\n",
       "    </tr>\n",
       "    <tr>\n",
       "      <th>1</th>\n",
       "      <td>206724580</td>\n",
       "      <td>If you need more length between your existing ...</td>\n",
       "    </tr>\n",
       "    <tr>\n",
       "      <th>2</th>\n",
       "      <td>310347105</td>\n",
       "      <td>Polyester cover resembling rich Italian tapest...</td>\n",
       "    </tr>\n",
       "    <tr>\n",
       "      <th>3</th>\n",
       "      <td>312338711</td>\n",
       "      <td>It features a rectangle shape. This vessel set...</td>\n",
       "    </tr>\n",
       "    <tr>\n",
       "      <th>4</th>\n",
       "      <td>308561619</td>\n",
       "      <td>This 9 in. black full grain leather logger boo...</td>\n",
       "    </tr>\n",
       "  </tbody>\n",
       "</table>\n",
       "</div>"
      ],
      "text/plain": [
       "   product_id                                        description\n",
       "0   310090686  This heavyweight, water-repellent hooded sweat...\n",
       "1   206724580  If you need more length between your existing ...\n",
       "2   310347105  Polyester cover resembling rich Italian tapest...\n",
       "3   312338711  It features a rectangle shape. This vessel set...\n",
       "4   308561619  This 9 in. black full grain leather logger boo..."
      ]
     },
     "execution_count": 7,
     "metadata": {},
     "output_type": "execute_result"
    }
   ],
   "source": [
    "# List of columns \n",
    "columns = ['product_id', 'description']\n",
    "# Drop columns that are not in columns_to_keep\n",
    "df = data.drop(data.columns.difference(columns), axis=1)\n",
    "df = df.loc[:, columns].dropna()\n",
    "df.head(5)"
   ]
  },
  {
   "cell_type": "code",
   "execution_count": 9,
   "metadata": {},
   "outputs": [
    {
     "data": {
      "text/plain": [
       "0     This heavyweight, water-repellent hooded sweat...\n",
       "1     If you need more length between your existing ...\n",
       "2     Polyester cover resembling rich Italian tapest...\n",
       "3     It features a rectangle shape. This vessel set...\n",
       "4     This 9 in. black full grain leather logger boo...\n",
       "5     With robust structure and sophisticated canvas...\n",
       "6     BEHR PRO i300 Semi-Gloss Interior Paint has a ...\n",
       "7     DEWALT High Performance 0.045 in. Metal Cuttin...\n",
       "8     This Ring Bar Cart is sure to make a statement...\n",
       "9     This transitional vanity table proudly display...\n",
       "10    Its easy to add a decorative touch to your hom...\n",
       "11    BEHR PREMIUM PLUS Interior Paint & Primer offe...\n",
       "12    BlindsAvenue light filtering cellular shades w...\n",
       "13    Luverne SlimGrip truck running boards combine ...\n",
       "14    Our Rustic Collection is an instant classic. R...\n",
       "Name: description, dtype: object"
      ]
     },
     "execution_count": 9,
     "metadata": {},
     "output_type": "execute_result"
    }
   ],
   "source": [
    "# taking subset of descriptions\n",
    "description_data = df.head(500)\n",
    "description_data['description'].head(15)"
   ]
  },
  {
   "cell_type": "markdown",
   "metadata": {},
   "source": [
    "Feature Extraction"
   ]
  },
  {
   "cell_type": "code",
   "execution_count": 10,
   "metadata": {},
   "outputs": [
    {
     "data": {
      "text/plain": [
       "<500x4472 sparse matrix of type '<class 'numpy.float64'>'\n",
       "\twith 20425 stored elements in Compressed Sparse Row format>"
      ]
     },
     "execution_count": 10,
     "metadata": {},
     "output_type": "execute_result"
    }
   ],
   "source": [
    "# extracting the numerical features from the text in product description\n",
    "vectorizer = TfidfVectorizer(stop_words='english')\n",
    "vectorized_data = vectorizer.fit_transform(description_data[\"description\"])\n",
    "vectorized_data "
   ]
  },
  {
   "cell_type": "markdown",
   "metadata": {},
   "source": [
    "Clustering the product description using K-Means"
   ]
  },
  {
   "cell_type": "code",
   "execution_count": 11,
   "metadata": {},
   "outputs": [
    {
     "data": {
      "image/png": "[encoded data removed]",
      "text/plain": [
       "<Figure size 640x480 with 1 Axes>"
      ]
     },
     "metadata": {},
     "output_type": "display_data"
    }
   ],
   "source": [
    "X = vectorized_data \n",
    "\n",
    "kmeans = KMeans(n_clusters = 10, init = 'k-means++')\n",
    "y_kmeans = kmeans.fit_predict(X)\n",
    "plt.plot(y_kmeans, \".\")\n",
    "plt.show()"
   ]
  },
  {
   "cell_type": "code",
   "execution_count": 16,
   "metadata": {},
   "outputs": [
    {
     "name": "stdout",
     "output_type": "stream",
     "text": [
      "Top terms in each cluster:\n",
      "Cluster 0:\n",
      " wood\n",
      " rustic\n",
      " beams\n",
      " real\n",
      " products\n",
      " authentic\n",
      " timber\n",
      " faux\n",
      " cost\n",
      " collection\n",
      "Cluster 1:\n",
      " glidden\n",
      " diamond\n",
      " results\n",
      " paint\n",
      " delivers\n",
      " essentials\n",
      " achieve\n",
      " smart\n",
      " exceptional\n",
      " primer\n",
      "Cluster 2:\n",
      " plus\n",
      " premium\n",
      " stains\n",
      " paint\n",
      " finish\n",
      " resists\n",
      " mildew\n",
      " hide\n",
      " low\n",
      " exceptional\n",
      "Cluster 3:\n",
      " exterior\n",
      " home\n",
      " look\n",
      " light\n",
      " door\n",
      " style\n",
      " paint\n",
      " finish\n",
      " latex\n",
      " doors\n",
      "Cluster 4:\n",
      " brake\n",
      " power\n",
      " kit\n",
      " cord\n",
      " head\n",
      " led\n",
      " line\n",
      " built\n",
      " road\n",
      " element3\n",
      "Cluster 5:\n",
      " superior\n",
      " use\n",
      " latex\n",
      " properly\n",
      " prepared\n",
      " spray\n",
      " paint\n",
      " professional\n",
      " drywall\n",
      " pro\n",
      "Cluster 6:\n",
      " rug\n",
      " rugs\n",
      " collection\n",
      " area\n",
      " room\n",
      " design\n",
      " home\n",
      " soft\n",
      " decor\n",
      " living\n",
      "Cluster 7:\n",
      " water\n",
      " mat\n",
      " set\n",
      " rod\n",
      " place\n",
      " steel\n",
      " glass\n",
      " fatigue\n",
      " dishes\n",
      " anti\n",
      "Cluster 8:\n",
      " coat\n",
      " drying\n",
      " colors\n",
      " hide\n",
      " scuff\n",
      " longer\n",
      " time\n",
      " stain\n",
      " technology\n",
      " best\n",
      "Cluster 9:\n",
      " paint\n",
      " primer\n",
      " label\n",
      " details\n",
      " stain\n",
      " ultra\n",
      " behr\n",
      " coat\n",
      " blocking\n",
      " needed\n"
     ]
    }
   ],
   "source": [
    "def print_cluster(i):\n",
    "    print(\"Cluster %d:\" % i),\n",
    "    for ind in order_centroids[i, :10]:\n",
    "        print(' %s' % terms[ind]),\n",
    "    print\n",
    "\n",
    "# clustering\n",
    "k = 10\n",
    "model = KMeans(n_clusters=k, init='k-means++', max_iter=100, n_init=1)\n",
    "model.fit(X)\n",
    "\n",
    "# Top words in each cluster based on product description\n",
    "print(\"Top terms in each cluster:\")\n",
    "order_centroids = model.cluster_centers_.argsort()[:, ::-1]\n",
    "terms = vectorizer.get_feature_names_out()\n",
    "for i in range(k):\n",
    "    print_cluster(i)"
   ]
  },
  {
   "cell_type": "markdown",
   "metadata": {},
   "source": [
    "Prediction\n"
   ]
  },
  {
   "cell_type": "code",
   "execution_count": 17,
   "metadata": {},
   "outputs": [],
   "source": [
    "# from the search words it predict the specific cluster it belong to\n",
    "def show_recommendations(product):\n",
    "    #print(\"Cluster ID:\")\n",
    "    Y = vectorizer.transform([product])\n",
    "    pred = model.predict(Y)\n",
    "    #print(prediction)\n",
    "    print_cluster(pred[0])"
   ]
  },
  {
   "cell_type": "code",
   "execution_count": 18,
   "metadata": {},
   "outputs": [
    {
     "name": "stdout",
     "output_type": "stream",
     "text": [
      "Cluster 6:\n",
      " rug\n",
      " rugs\n",
      " collection\n",
      " area\n",
      " room\n",
      " design\n",
      " home\n",
      " soft\n",
      " decor\n",
      " living\n"
     ]
    }
   ],
   "source": [
    "show_recommendations(\"room decor\")"
   ]
  },
  {
   "cell_type": "code",
   "execution_count": 19,
   "metadata": {},
   "outputs": [
    {
     "name": "stdout",
     "output_type": "stream",
     "text": [
      "Cluster 3:\n",
      " exterior\n",
      " home\n",
      " look\n",
      " light\n",
      " door\n",
      " style\n",
      " paint\n",
      " finish\n",
      " latex\n",
      " doors\n"
     ]
    }
   ],
   "source": [
    "show_recommendations(\"spray paint\")"
   ]
  },
  {
   "cell_type": "markdown",
   "metadata": {},
   "source": [
    "Once the system identifies a cluster corresponding to the user's search words, it can recommend items from that cluster by analyzing product descriptions."
   ]
  }
 ],
 "metadata": {
  "kernelspec": {
   "display_name": "Python 3",
   "language": "python",
   "name": "python3"
  },
  "language_info": {
   "codemirror_mode": {
    "name": "ipython",
    "version": 3
   },
   "file_extension": ".py",
   "mimetype": "text/x-python",
   "name": "python",
   "nbconvert_exporter": "python",
   "pygments_lexer": "ipython3",
   "version": "3.11.9"
  }
 },
 "nbformat": 4,
 "nbformat_minor": 2
}
